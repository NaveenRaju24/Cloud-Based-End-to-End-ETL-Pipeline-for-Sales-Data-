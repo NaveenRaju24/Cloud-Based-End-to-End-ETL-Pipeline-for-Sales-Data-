{
 "cells": [
  {
   "cell_type": "code",
   "execution_count": 20,
   "id": "b1958212-d624-47a2-bf12-199d48f7bf07",
   "metadata": {},
   "outputs": [],
   "source": [
    "# Cloud-based ETL Pipeline Project \n",
    "\n",
    "import pandas as pd\n",
    "\n",
    "# UCI dataset URL\n",
    "url = 'https://archive.ics.uci.edu/ml/machine-learning-databases/00352/Online%20Retail.xlsx'\n",
    "\n",
    "df = pd.read_excel(url)                             # Read the Excel file from URL\n",
    "\n",
    "df.to_csv('Sales_dataset.csv', index=False)         # Save to a local CSV, idex=false because to Don't write the row index (the left-most numbers) into the CSV file\n",
    "                                                    # We usually use that to keep the file clean and only include actual data columns — not internal row numbers.\n",
    "\n",
    "# or directly read it from folder(epude ade chedam, paina process yekuva time tesukunta undi) \n"
   ]
  },
  {
   "cell_type": "code",
   "execution_count": 3,
   "id": "ba7d2795-b5c2-4015-826d-6067a57c37c1",
   "metadata": {},
   "outputs": [
    {
     "name": "stdout",
     "output_type": "stream",
     "text": [
      "  InvoiceNo StockCode                          Description  Quantity  \\\n",
      "0    536365    85123A   WHITE HANGING HEART T-LIGHT HOLDER         6   \n",
      "1    536365     71053                  WHITE METAL LANTERN         6   \n",
      "2    536365    84406B       CREAM CUPID HEARTS COAT HANGER         8   \n",
      "3    536365    84029G  KNITTED UNION FLAG HOT WATER BOTTLE         6   \n",
      "4    536365    84029E       RED WOOLLY HOTTIE WHITE HEART.         6   \n",
      "\n",
      "          InvoiceDate  UnitPrice  CustomerID         Country  \n",
      "0 2010-12-01 08:26:00       2.55     17850.0  United Kingdom  \n",
      "1 2010-12-01 08:26:00       3.39     17850.0  United Kingdom  \n",
      "2 2010-12-01 08:26:00       2.75     17850.0  United Kingdom  \n",
      "3 2010-12-01 08:26:00       3.39     17850.0  United Kingdom  \n",
      "4 2010-12-01 08:26:00       3.39     17850.0  United Kingdom  \n"
     ]
    }
   ],
   "source": [
    "import pandas as pd\n",
    "\n",
    "df = pd.read_excel(\"C:/Users/navee/Desktop/IDEs/Python/Practice projects/Cloud- Based ETL Project/Sales_Dataset.xlsx\")  \n",
    "\n",
    "print(df.head())     # checcking 5 rows to confirm it is working or not \n"
   ]
  },
  {
   "cell_type": "code",
   "execution_count": 5,
   "id": "59a1aaee-7717-492c-8600-918f0353b674",
   "metadata": {},
   "outputs": [
    {
     "name": "stdout",
     "output_type": "stream",
     "text": [
      "Collecting boto3\n",
      "  Downloading boto3-1.39.3-py3-none-any.whl.metadata (6.6 kB)\n",
      "Collecting botocore<1.40.0,>=1.39.3 (from boto3)\n",
      "  Downloading botocore-1.39.3-py3-none-any.whl.metadata (5.7 kB)\n",
      "Requirement already satisfied: jmespath<2.0.0,>=0.7.1 in c:\\users\\navee\\anaconda3\\lib\\site-packages (from boto3) (1.0.1)\n",
      "Collecting s3transfer<0.14.0,>=0.13.0 (from boto3)\n",
      "  Downloading s3transfer-0.13.0-py3-none-any.whl.metadata (1.7 kB)\n",
      "Requirement already satisfied: python-dateutil<3.0.0,>=2.1 in c:\\users\\navee\\anaconda3\\lib\\site-packages (from botocore<1.40.0,>=1.39.3->boto3) (2.9.0.post0)\n",
      "Requirement already satisfied: urllib3!=2.2.0,<3,>=1.25.4 in c:\\users\\navee\\anaconda3\\lib\\site-packages (from botocore<1.40.0,>=1.39.3->boto3) (2.2.3)\n",
      "Requirement already satisfied: six>=1.5 in c:\\users\\navee\\anaconda3\\lib\\site-packages (from python-dateutil<3.0.0,>=2.1->botocore<1.40.0,>=1.39.3->boto3) (1.16.0)\n",
      "Downloading boto3-1.39.3-py3-none-any.whl (139 kB)\n",
      "Downloading botocore-1.39.3-py3-none-any.whl (13.8 MB)\n",
      "   ---------------------------------------- 0.0/13.8 MB ? eta -:--:--\n",
      "   -------- ------------------------------- 2.9/13.8 MB 14.0 MB/s eta 0:00:01\n",
      "   -------------------- ------------------- 7.1/13.8 MB 17.5 MB/s eta 0:00:01\n",
      "   ------------------------------ --------- 10.5/13.8 MB 17.2 MB/s eta 0:00:01\n",
      "   ---------------------------------------  13.6/13.8 MB 17.1 MB/s eta 0:00:01\n",
      "   ---------------------------------------- 13.8/13.8 MB 16.3 MB/s eta 0:00:00\n",
      "Downloading s3transfer-0.13.0-py3-none-any.whl (85 kB)\n",
      "Installing collected packages: botocore, s3transfer, boto3\n",
      "  Attempting uninstall: botocore\n",
      "    Found existing installation: botocore 1.34.69\n",
      "    Uninstalling botocore-1.34.69:\n",
      "      Successfully uninstalled botocore-1.34.69\n",
      "Successfully installed boto3-1.39.3 botocore-1.39.3 s3transfer-0.13.0\n",
      "Note: you may need to restart the kernel to use updated packages.\n"
     ]
    },
    {
     "name": "stderr",
     "output_type": "stream",
     "text": [
      "ERROR: pip's dependency resolver does not currently take into account all the packages that are installed. This behaviour is the source of the following dependency conflicts.\n",
      "aiobotocore 2.12.3 requires botocore<1.34.70,>=1.34.41, but you have botocore 1.39.3 which is incompatible.\n"
     ]
    }
   ],
   "source": [
    "pip install boto3"
   ]
  },
  {
   "cell_type": "code",
   "execution_count": 26,
   "id": "eb6d8b54-9eb1-49e4-add9-1cda5261ecc6",
   "metadata": {},
   "outputs": [
    {
     "name": "stdout",
     "output_type": "stream",
     "text": [
      "  InvoiceNo StockCode                          Description  Quantity  \\\n",
      "0    536365    85123A   WHITE HANGING HEART T-LIGHT HOLDER         6   \n",
      "1    536365     71053                  WHITE METAL LANTERN         6   \n",
      "2    536365    84406B       CREAM CUPID HEARTS COAT HANGER         8   \n",
      "3    536365    84029G  KNITTED UNION FLAG HOT WATER BOTTLE         6   \n",
      "4    536365    84029E       RED WOOLLY HOTTIE WHITE HEART.         6   \n",
      "\n",
      "          InvoiceDate  UnitPrice  CustomerID         Country  \n",
      "0 2010-12-01 08:26:00       2.55     17850.0  United Kingdom  \n",
      "1 2010-12-01 08:26:00       3.39     17850.0  United Kingdom  \n",
      "2 2010-12-01 08:26:00       2.75     17850.0  United Kingdom  \n",
      "3 2010-12-01 08:26:00       3.39     17850.0  United Kingdom  \n",
      "4 2010-12-01 08:26:00       3.39     17850.0  United Kingdom  \n"
     ]
    }
   ],
   "source": [
    "# Epudu AWS lo una file ni Python use chesi read chedam .....\n",
    "\n",
    "import boto3\n",
    "import pandas as pd\n",
    "from io import BytesIO                                       # Convert binary stream to a readable format\n",
    "\n",
    "s3 = boto3.client('s3')                                      # Connect to S3\n",
    "\n",
    "bucket_name = 'for-myprojects'                               # Your S3 bucket name\n",
    "file_key = 'Sales_Dataset.xlsx'                              # Your uploaded file name\n",
    "\n",
    "response = s3.get_object(Bucket=bucket_name, Key=file_key)   # Download the file\n",
    "df = pd.read_excel(BytesIO(response['Body'].read()))         # Read Excel file\n",
    "\n",
    "print(df.head())                                             # Preview the first few rows\n"
   ]
  },
  {
   "cell_type": "code",
   "execution_count": 28,
   "id": "cec241cc-5f66-46dd-8823-116a11d725ce",
   "metadata": {},
   "outputs": [
    {
     "name": "stdout",
     "output_type": "stream",
     "text": [
      "(541909, 8)\n",
      "Index(['InvoiceNo', 'StockCode', 'Description', 'Quantity', 'InvoiceDate',\n",
      "       'UnitPrice', 'CustomerID', 'Country'],\n",
      "      dtype='object')\n",
      "InvoiceNo              object\n",
      "StockCode              object\n",
      "Description            object\n",
      "Quantity                int64\n",
      "InvoiceDate    datetime64[ns]\n",
      "UnitPrice             float64\n",
      "CustomerID            float64\n",
      "Country                object\n",
      "dtype: object\n",
      "InvoiceNo           0\n",
      "StockCode           0\n",
      "Description      1454\n",
      "Quantity            0\n",
      "InvoiceDate         0\n",
      "UnitPrice           0\n",
      "CustomerID     135080\n",
      "Country             0\n",
      "dtype: int64\n"
     ]
    }
   ],
   "source": [
    "print(df.shape)             # Check number of rows and columns\n",
    "print(df.columns)           # List all column names\n",
    "print(df.dtypes)            # Check data types of each column\n",
    "df.head()                   # Preview top rows\n",
    "print(df.isnull().sum())    # Count missing values column-wise\n",
    "\n",
    "\n",
    "# So Depending on what we find: we will Drop unnecessary columns, Fill or drop missing values, Convert data types (e.g., date, float) and Fix column names.\n"
   ]
  },
  {
   "cell_type": "code",
   "execution_count": 34,
   "id": "1dcbebe2-95cb-4048-9e74-8e647fa40cf8",
   "metadata": {},
   "outputs": [
    {
     "name": "stdout",
     "output_type": "stream",
     "text": [
      "InvoiceNo      0\n",
      "StockCode      0\n",
      "Description    0\n",
      "Quantity       0\n",
      "InvoiceDate    0\n",
      "UnitPrice      0\n",
      "CustomerID     0\n",
      "Country        0\n",
      "dtype: int64\n",
      "InvoiceNo              object\n",
      "StockCode              object\n",
      "Description            object\n",
      "Quantity                int64\n",
      "InvoiceDate    datetime64[ns]\n",
      "UnitPrice             float64\n",
      "CustomerID              int32\n",
      "Country                object\n",
      "dtype: object\n"
     ]
    },
    {
     "data": {
      "text/html": [
       "<div>\n",
       "<style scoped>\n",
       "    .dataframe tbody tr th:only-of-type {\n",
       "        vertical-align: middle;\n",
       "    }\n",
       "\n",
       "    .dataframe tbody tr th {\n",
       "        vertical-align: top;\n",
       "    }\n",
       "\n",
       "    .dataframe thead th {\n",
       "        text-align: right;\n",
       "    }\n",
       "</style>\n",
       "<table border=\"1\" class=\"dataframe\">\n",
       "  <thead>\n",
       "    <tr style=\"text-align: right;\">\n",
       "      <th></th>\n",
       "      <th>InvoiceNo</th>\n",
       "      <th>StockCode</th>\n",
       "      <th>Description</th>\n",
       "      <th>Quantity</th>\n",
       "      <th>InvoiceDate</th>\n",
       "      <th>UnitPrice</th>\n",
       "      <th>CustomerID</th>\n",
       "      <th>Country</th>\n",
       "    </tr>\n",
       "  </thead>\n",
       "  <tbody>\n",
       "    <tr>\n",
       "      <th>0</th>\n",
       "      <td>536365</td>\n",
       "      <td>85123A</td>\n",
       "      <td>WHITE HANGING HEART T-LIGHT HOLDER</td>\n",
       "      <td>6</td>\n",
       "      <td>2010-12-01 08:26:00</td>\n",
       "      <td>2.55</td>\n",
       "      <td>17850</td>\n",
       "      <td>United Kingdom</td>\n",
       "    </tr>\n",
       "    <tr>\n",
       "      <th>1</th>\n",
       "      <td>536365</td>\n",
       "      <td>71053</td>\n",
       "      <td>WHITE METAL LANTERN</td>\n",
       "      <td>6</td>\n",
       "      <td>2010-12-01 08:26:00</td>\n",
       "      <td>3.39</td>\n",
       "      <td>17850</td>\n",
       "      <td>United Kingdom</td>\n",
       "    </tr>\n",
       "    <tr>\n",
       "      <th>2</th>\n",
       "      <td>536365</td>\n",
       "      <td>84406B</td>\n",
       "      <td>CREAM CUPID HEARTS COAT HANGER</td>\n",
       "      <td>8</td>\n",
       "      <td>2010-12-01 08:26:00</td>\n",
       "      <td>2.75</td>\n",
       "      <td>17850</td>\n",
       "      <td>United Kingdom</td>\n",
       "    </tr>\n",
       "    <tr>\n",
       "      <th>3</th>\n",
       "      <td>536365</td>\n",
       "      <td>84029G</td>\n",
       "      <td>KNITTED UNION FLAG HOT WATER BOTTLE</td>\n",
       "      <td>6</td>\n",
       "      <td>2010-12-01 08:26:00</td>\n",
       "      <td>3.39</td>\n",
       "      <td>17850</td>\n",
       "      <td>United Kingdom</td>\n",
       "    </tr>\n",
       "    <tr>\n",
       "      <th>4</th>\n",
       "      <td>536365</td>\n",
       "      <td>84029E</td>\n",
       "      <td>RED WOOLLY HOTTIE WHITE HEART.</td>\n",
       "      <td>6</td>\n",
       "      <td>2010-12-01 08:26:00</td>\n",
       "      <td>3.39</td>\n",
       "      <td>17850</td>\n",
       "      <td>United Kingdom</td>\n",
       "    </tr>\n",
       "  </tbody>\n",
       "</table>\n",
       "</div>"
      ],
      "text/plain": [
       "  InvoiceNo StockCode                          Description  Quantity  \\\n",
       "0    536365    85123A   WHITE HANGING HEART T-LIGHT HOLDER         6   \n",
       "1    536365     71053                  WHITE METAL LANTERN         6   \n",
       "2    536365    84406B       CREAM CUPID HEARTS COAT HANGER         8   \n",
       "3    536365    84029G  KNITTED UNION FLAG HOT WATER BOTTLE         6   \n",
       "4    536365    84029E       RED WOOLLY HOTTIE WHITE HEART.         6   \n",
       "\n",
       "          InvoiceDate  UnitPrice  CustomerID         Country  \n",
       "0 2010-12-01 08:26:00       2.55       17850  United Kingdom  \n",
       "1 2010-12-01 08:26:00       3.39       17850  United Kingdom  \n",
       "2 2010-12-01 08:26:00       2.75       17850  United Kingdom  \n",
       "3 2010-12-01 08:26:00       3.39       17850  United Kingdom  \n",
       "4 2010-12-01 08:26:00       3.39       17850  United Kingdom  "
      ]
     },
     "execution_count": 34,
     "metadata": {},
     "output_type": "execute_result"
    }
   ],
   "source": [
    "# Isssues came are - Two columns haing missing values , so we are removing them - \n",
    "\n",
    "# Drop rows where CustomerID is missing, as it's a large chunk but usually critical\n",
    "df = df.dropna(subset=['CustomerID'])     # Remove rows with null CustomerID\n",
    "\n",
    "# Fill missing Description with placeholder (or you can choose to drop them too)\n",
    "df['Description'] = df['Description'].fillna('No description')   # Replace nulls with string\n",
    "\n",
    "# Convert CustomerID to integer (it's float because of NaNs earlier)\n",
    "df['CustomerID'] = df['CustomerID'].astype(int)   # Change float to int after removing nulls\n",
    "\n",
    "# Cheking after above cleaning step - \n",
    "print(df.isnull().sum())      # Confirm no nulls remain\n",
    "print(df.dtypes)              # Confirm correct datatypes\n",
    "df.head()                     # Final quick preview\n"
   ]
  },
  {
   "cell_type": "code",
   "execution_count": 44,
   "id": "7ca0ead7-5822-4835-a3de-179269f22bed",
   "metadata": {},
   "outputs": [
    {
     "data": {
      "image/png": "[encoded data removed]",
      "text/plain": [
       "<Figure size 1200x600 with 1 Axes>"
      ]
     },
     "metadata": {},
     "output_type": "display_data"
    }
   ],
   "source": [
    "# Tranformation Part -- \n",
    "\n",
    "# creating new column = Quantity × Unit Price = Total Revenue for each row\n",
    "df['TotalPrice'] = df['Quantity'] * df['UnitPrice']     \n",
    "\n",
    "# Analyze time-based trends ( a basic monthly sales trend analysis ) \n",
    "\n",
    "# First, extract Year and Month from InvoiceDate\n",
    "df['YearMonth'] = df['InvoiceDate'].dt.to_period('M')      # Convert to \"YYYY-MM\" format ( df['InvoiceDate'] → This is a datetime column (like 2010-12-01 08:26:00)\n",
    "                                                           #  .to_period('M') → Converts that datetime to a Period object at monthly level(year-month=2023-07).\n",
    "                                                           #  (M) because it means year-month , for year it is just year , for days it is - year-month-day...\n",
    "\n",
    "# Now group by YearMonth and sum TotalPrice\n",
    "monthly_sales = df.groupby('YearMonth')['TotalPrice'].sum().reset_index()\n",
    "\n",
    "# Plot the result\n",
    "import matplotlib.pyplot as plt            # matplotlib for visualisation\n",
    "\n",
    "plt.figure(figsize=(12, 6))                   \n",
    "plt.plot(monthly_sales['YearMonth'].astype(str), monthly_sales['TotalPrice'], marker='o')      # Ploting a line with dots for each month\n",
    "plt.xticks(rotation=45)\n",
    "plt.title('Monthly Sales Trend')\n",
    "plt.xlabel('Month')\n",
    "plt.ylabel('Total Sales')\n",
    "plt.tight_layout()\n",
    "plt.show()\n",
    "\n"
   ]
  },
  {
   "cell_type": "code",
   "execution_count": null,
   "id": "d3b90607-c93e-4cb4-85c6-fb8fd3ece952",
   "metadata": {},
   "outputs": [],
   "source": [
    "# Now saving the changed file- one copy to Folder(local) and one copy to AWS S3\n",
    "\n",
    "df.to_csv('Sales_Cleaned.csv', index=False)       # saving into local file \n",
    "\n",
    "\n",
    "\n"
   ]
  },
  {
   "cell_type": "code",
   "execution_count": 56,
   "id": "4a32ffec-2912-46c1-a621-15c34c9976cd",
   "metadata": {},
   "outputs": [],
   "source": [
    "df.to_excel('Sales_Cleaned.xlsx', index=False)   # Saves file locally in your notebook's directory\n",
    "\n",
    "\n",
    "from io import BytesIO\n",
    "\n",
    "buffer = BytesIO()                                 # Create an in-memory binary buffer\n",
    "df.to_excel(buffer, index=False)                   # Write DataFrame to buffer in Excel format\n",
    "buffer.seek(0)                                     # Reset pointer to start of buffer\n",
    "\n",
    "s3.upload_fileobj(                                 # Upload buffer to S3\n",
    "    buffer, \n",
    "    Bucket='for-myprojects',                       # S3 bucket\n",
    "    Key='cleaned/Sales_Cleaned.xlsx'               # Saving under 'cleaned/' folder - Done saving .. \n",
    ")\n"
   ]
  },
  {
   "cell_type": "code",
   "execution_count": 3,
   "id": "6e285658-09b2-476c-827b-69c6d9dbc056",
   "metadata": {},
   "outputs": [],
   "source": [
    "# just re-opned so running necessary libraries \n",
    "import boto3                        # To connect with AWS S3\n",
    "import pandas as pd                # For data manipulation\n",
    "from io import BytesIO             # For handling binary stream (Excel from S3)\n",
    "import matplotlib.pyplot as plt    # For visualizations\n",
    "\n",
    "# reconnecting to S3 \n",
    "s3 = boto3.client('s3')"
   ]
  },
  {
   "cell_type": "code",
   "execution_count": 6,
   "id": "d39a5bc5-7f93-4bd8-bef0-73ed885b1e89",
   "metadata": {},
   "outputs": [],
   "source": [
    "# making small chage for the stokecodes to align properly \n",
    "\n",
    "import pandas as pd\n",
    "\n",
    "# Load Excel file\n",
    "df = pd.read_excel(\"C:/Users/navee/Desktop/IDEs/Python/Practice projects/Cloud- Based ETL Project/Sales_Cleaned.xlsx\")\n"
   ]
  },
  {
   "cell_type": "code",
   "execution_count": 14,
   "id": "eee2d8cc-0238-40bd-ae1f-cf03fbb45163",
   "metadata": {},
   "outputs": [],
   "source": [
    "# Ensuring all StockCode values are string type\n",
    "df['StockCode'] = df['StockCode'].astype(str)\n",
    "\n",
    "# saving the updated file to local folder and to S3 \n",
    "\n",
    "df.to_excel('Sales_Cleaned.xlsx', index=False)    # local folder \n",
    "\n",
    "s3 = boto3.client('s3')                           # S3\n",
    "\n",
    "buffer = BytesIO()\n",
    "df.to_excel(buffer, index=False)\n",
    "buffer.seek(0)\n",
    "\n",
    "s3.upload_fileobj(\n",
    "    buffer,\n",
    "    Bucket='for-myprojects',\n",
    "    Key='cleaned/Sales_Cleaned.xlsx'\n",
    ")"
   ]
  },
  {
   "cell_type": "code",
   "execution_count": 16,
   "id": "5e1f467c-d7e0-4696-8657-a5b3c2d1c7b0",
   "metadata": {},
   "outputs": [],
   "source": [
    "# Loading the Data from S3 to Redshift(it is like datawarehouse- we can do query with data like SQL)  \n",
    "\n",
    "# Redshift doesn’t allow you to directly load files from your local machine using Python or the console. \n",
    "# Instead, it requires the file to be stored in S3 so it can use the COPY command to load data efficiently.\n",
    "\n",
    "# Save as CSV locally\n",
    "df.to_csv(\"Sales_Cleaned.csv\", index=False)\n",
    "\n",
    "buffer = BytesIO()                    # Upload CSV to S3\n",
    "df.to_csv(buffer, index=False)\n",
    "buffer.seek(0)\n",
    "\n",
    "s3.upload_fileobj(\n",
    "    buffer,\n",
    "    Bucket='for-myprojects',\n",
    "    Key='cleaned/Sales_Cleaned.csv'  \n",
    ")\n",
    "\n",
    "\n",
    "# So once this is done - Go to AWS console and do loading data into redshift from S3... \n",
    "# Then Load data into PowerBI from redshift to generate visual reports "
   ]
  },
  {
   "cell_type": "code",
   "execution_count": null,
   "id": "3878041d-4c28-433f-9d6d-82022bc1f7af",
   "metadata": {},
   "outputs": [],
   "source": []
  },
  {
   "cell_type": "code",
   "execution_count": null,
   "id": "3f89722a-cced-41de-b2fb-83173dce1489",
   "metadata": {},
   "outputs": [],
   "source": []
  },
  {
   "cell_type": "code",
   "execution_count": null,
   "id": "11d67222-b848-4343-b90a-966731aa0cb2",
   "metadata": {},
   "outputs": [],
   "source": []
  },
  {
   "cell_type": "code",
   "execution_count": null,
   "id": "3197c8bf-ecfd-421e-a81d-ba714d541f20",
   "metadata": {},
   "outputs": [],
   "source": []
  },
  {
   "cell_type": "code",
   "execution_count": null,
   "id": "38527977-242a-4f3a-8282-abd9903f8284",
   "metadata": {},
   "outputs": [],
   "source": []
  },
  {
   "cell_type": "code",
   "execution_count": null,
   "id": "351e9ea3-2fe9-490e-843c-686f288c8247",
   "metadata": {},
   "outputs": [],
   "source": []
  },
  {
   "cell_type": "code",
   "execution_count": null,
   "id": "5dbd71da-e473-42da-bc73-38111e4196f2",
   "metadata": {},
   "outputs": [],
   "source": []
  },
  {
   "cell_type": "code",
   "execution_count": null,
   "id": "098fefc9-115e-4f4b-83e7-8ee819614daa",
   "metadata": {},
   "outputs": [],
   "source": []
  },
  {
   "cell_type": "code",
   "execution_count": null,
   "id": "7c168467-ef2a-4106-963a-b1882c42797c",
   "metadata": {},
   "outputs": [],
   "source": []
  },
  {
   "cell_type": "code",
   "execution_count": null,
   "id": "1364daa3-9118-49b9-8c60-b41d91a40215",
   "metadata": {},
   "outputs": [],
   "source": []
  },
  {
   "cell_type": "code",
   "execution_count": 18,
   "id": "1ad39307-8aad-430d-be39-f55fa78d7aef",
   "metadata": {},
   "outputs": [
    {
     "name": "stdout",
     "output_type": "stream",
     "text": [
      "hello\n"
     ]
    }
   ],
   "source": []
  }
 ],
 "metadata": {
  "kernelspec": {
   "display_name": "Python [conda env:base] *",
   "language": "python",
   "name": "conda-base-py"
  },
  "language_info": {
   "codemirror_mode": {
    "name": "ipython",
    "version": 3
   },
   "file_extension": ".py",
   "mimetype": "text/x-python",
   "name": "python",
   "nbconvert_exporter": "python",
   "pygments_lexer": "ipython3",
   "version": "3.12.7"
  }
 },
 "nbformat": 4,
 "nbformat_minor": 5
}
